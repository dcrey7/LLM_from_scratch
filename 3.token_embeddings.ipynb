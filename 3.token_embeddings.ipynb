{
 "cells": [
  {
   "cell_type": "code",
   "execution_count": 4,
   "id": "34878954",
   "metadata": {},
   "outputs": [],
   "source": [
    "import gensim.downloader as api\n",
    "model=api.load(\"word2vec-google-news-300\")"
   ]
  },
  {
   "cell_type": "code",
   "execution_count": 5,
   "id": "b6df14c8",
   "metadata": {},
   "outputs": [
    {
     "name": "stdout",
     "output_type": "stream",
     "text": [
      "300\n",
      "[ 0.10742188 -0.20117188  0.12304688  0.21191406 -0.09130859  0.21679688\n",
      " -0.13183594  0.08300781  0.20214844  0.04785156  0.03662109 -0.02453613\n",
      "  0.02392578 -0.16015625 -0.02612305  0.09716797 -0.06347656  0.18457031\n",
      "  0.17089844 -0.16308594 -0.109375    0.14941406 -0.00046539  0.09619141\n",
      "  0.16894531  0.00260925  0.08935547  0.06494141  0.03564453 -0.06933594\n",
      " -0.14648438 -0.12109375 -0.22753906  0.02453613 -0.12451172 -0.31835938\n",
      " -0.22070312  0.13085938  0.03662109 -0.03637695 -0.11328125  0.1953125\n",
      "  0.09765625  0.12695312  0.06591797  0.06933594  0.01025391  0.17578125\n",
      " -0.16894531  0.00121307 -0.29882812 -0.11523438  0.05664062 -0.17773438\n",
      " -0.20898438  0.17675781  0.02380371 -0.2578125  -0.04467773  0.18847656\n",
      "  0.05517578  0.05029297 -0.10693359  0.18945312 -0.11621094  0.08496094\n",
      " -0.171875    0.24511719 -0.17382812 -0.00830078  0.0456543  -0.01611328\n",
      "  0.18652344 -0.06054688 -0.04174805  0.18261719  0.22070312 -0.12255859\n",
      " -0.0255127  -0.30859375  0.09130859  0.16015625  0.17089844  0.11962891\n",
      "  0.07080078 -0.02648926 -0.03088379  0.40625    -0.1015625   0.05712891\n",
      " -0.00726318 -0.09179688 -0.15039062 -0.25585938  0.21679688 -0.03637695\n",
      "  0.22460938  0.08007812  0.15625     0.05273438]\n"
     ]
    }
   ],
   "source": [
    "word_vectors=model\n",
    "print(len(word_vectors['computer']))\n",
    "print(word_vectors['computer'][:100])\n",
    "\n"
   ]
  },
  {
   "cell_type": "code",
   "execution_count": null,
   "id": "eccd044c",
   "metadata": {},
   "outputs": [
    {
     "name": "stdout",
     "output_type": "stream",
     "text": [
      "[('computers', 0.7979379892349243), ('laptop', 0.6640493273735046), ('laptop_computer', 0.6548868417739868)]\n"
     ]
    }
   ],
   "source": [
    "#similar to computer\n",
    "print(word_vectors.most_similar('computer',topn=3))"
   ]
  },
  {
   "cell_type": "code",
   "execution_count": null,
   "id": "71f62f92",
   "metadata": {},
   "outputs": [
    {
     "name": "stdout",
     "output_type": "stream",
     "text": [
      "[('queen', 0.4827326238155365), ('queens', 0.466781347990036), ('kumaris', 0.4653734564781189)]\n"
     ]
    }
   ],
   "source": [
    "#king+woman-man= ?\n",
    "print(word_vectors.most_similar(positive=['king','women'],negative=['man'],topn=3))"
   ]
  },
  {
   "cell_type": "code",
   "execution_count": null,
   "id": "a30a4bb4",
   "metadata": {},
   "outputs": [
    {
     "name": "stdout",
     "output_type": "stream",
     "text": [
      "length of diff is 300. first 100 values of diff is [ 0.12072754  0.17333984  0.07794189  0.01611328 -0.1574707   0.05273438\n",
      "  0.18310547  0.01855469  0.24853516  0.3076172  -0.1665039   0.078125\n",
      " -0.28173828 -0.024086   -0.30078125 -0.28271484 -0.03808594  0.05209351\n",
      " -0.01953125  0.03466797 -0.05371094 -0.02392578  0.29589844  0.2553711\n",
      "  0.03564453 -0.12353516  0.05664062 -0.03198242  0.15332031  0.13586426\n",
      "  0.2607422   0.19262695  0.20703125  0.1875      0.03320312  0.21582031\n",
      " -0.05712891 -0.2578125   0.16503906 -0.01074219  0.03173828  0.18457031\n",
      "  0.01367188  0.17028809  0.16601562  0.08886719 -0.10574341 -0.11230469\n",
      " -0.2109375  -0.2522583  -0.14416504  0.05957031 -0.31274414  0.0513916\n",
      "  0.          0.0594635   0.19921875  0.1159668  -0.07128906  0.06567383\n",
      "  0.05078125  0.16796875  0.05938721  0.00195312 -0.07714844  0.03613281\n",
      " -0.0881958  -0.27441406  0.05664062  0.16455078 -0.03808594 -0.1616211\n",
      "  0.03417969 -0.04101562  0.07824707 -0.11621094 -0.26660156  0.00982666\n",
      "  0.03417969 -0.07763672  0.19897461  0.06665039 -0.25683594  0.04602051\n",
      "  0.1237793  -0.10791016 -0.015625   -0.1307373  -0.14550781 -0.06860352\n",
      " -0.09765625  0.09814453 -0.09277344 -0.12866211 -0.16259766 -0.01123047\n",
      " -0.09875488  0.06445312 -0.04785156 -0.2359314 ]\n",
      "mangnitude of difference bwtween king and queen: 2.4796924591064453\n",
      "length of diff is 300. first 100 values of diff is [ 0.30859375  0.28955078 -0.14959717  0.09057617  0.33374023 -0.1328125\n",
      "  0.35498047  0.01660156  0.00610352  0.30615234 -0.24673462 -0.5605469\n",
      " -0.3720703  -0.00927734 -0.08203125 -0.12548828 -0.02587891  0.01449585\n",
      "  0.16357422 -0.10839844  0.2890625   0.07788086  0.14990234  0.21972656\n",
      "  0.00830078 -0.37304688 -0.44335938  0.08276367  0.26660156  0.02941895\n",
      "  0.3330078   0.12768555  0.15820312  0.41046143 -0.33374023  0.18408203\n",
      " -0.15625    -0.07519531 -0.27539062 -0.23730469  0.01953125 -0.32958984\n",
      " -0.21289062  0.32617188  0.6308594   0.06494141  0.01171875  0.18457031\n",
      "  0.23242188  0.07366943 -0.17376709  0.3798828   0.06445312 -0.41540527\n",
      "  0.10058594 -0.1851654  -0.34570312  0.1081543  -0.50390625  0.19213867\n",
      "  0.2397461   0.26367188  0.25177002  0.00292969 -0.01269531 -0.3125\n",
      " -0.17041016 -0.42871094 -0.51171875  0.02539062  0.31347656  0.27685547\n",
      " -0.49609375  0.34375    -0.04846191  0.08642578 -0.25195312  0.06469727\n",
      "  0.24023438  0.25195312  0.2133789   0.24804688  0.30371094 -0.24597168\n",
      " -0.0546875   0.18408203 -0.1977539  -0.28601074  0.41308594  0.20874023\n",
      " -0.00097656  0.10498047 -0.22888184 -0.42871094  0.28759766  0.37939453\n",
      " -0.14660645  0.12280273 -0.15917969  0.00976562]\n",
      "mangnitude of difference between king and semiconductor: 4.7978949546813965\n"
     ]
    }
   ],
   "source": [
    "#finding magnitude of diff between two words\n",
    "import numpy as np\n",
    "\n",
    "\n",
    "diff=model['king']-model['queen']\n",
    "print(f\"length of diff is {len(diff)}. first 100 values of diff is {diff[:100]}\" )\n",
    "magnitude_of_difference1 = np.linalg.norm(diff)\n",
    "print(f\"mangnitude of difference bwtween king and queen: {magnitude_of_difference1}\")\n",
    "\n",
    "# very less difference\n",
    "\n",
    "\n",
    "diff=model['king']-model['semiconductor']\n",
    "print(f\"length of diff is {len(diff)}. first 100 values of diff is {diff[:100]}\" )\n",
    "magnitude_of_difference1 = np.linalg.norm(diff)\n",
    "print(f\"mangnitude of difference between king and semiconductor: {magnitude_of_difference1}\")\n",
    "#more difference"
   ]
  },
  {
   "cell_type": "markdown",
   "id": "59f95716",
   "metadata": {},
   "source": [
    "# Creating token embeddings"
   ]
  },
  {
   "cell_type": "code",
   "execution_count": 22,
   "id": "7c819051",
   "metadata": {},
   "outputs": [],
   "source": [
    "import torch\n",
    "\n",
    "input_ids=torch.tensor([2,3,5,1])"
   ]
  },
  {
   "cell_type": "code",
   "execution_count": 23,
   "id": "f3c26438",
   "metadata": {},
   "outputs": [],
   "source": [
    "vocab_size=6\n",
    "output_dim=3\n",
    "\n",
    "torch.manual_seed(123)\n",
    "embedding_layer=torch.nn.Embedding(vocab_size,output_dim)"
   ]
  },
  {
   "cell_type": "code",
   "execution_count": null,
   "id": "58f4f6fe",
   "metadata": {},
   "outputs": [
    {
     "name": "stdout",
     "output_type": "stream",
     "text": [
      "Parameter containing:\n",
      "tensor([[ 0.3374, -0.1778, -0.1690],\n",
      "        [ 0.9178,  1.5810,  1.3010],\n",
      "        [ 1.2753, -0.2010, -0.1606],\n",
      "        [-0.4015,  0.9666, -1.1481],\n",
      "        [-1.1589,  0.3255, -0.6315],\n",
      "        [-2.8400, -0.7849, -1.4096]], requires_grad=True)\n"
     ]
    }
   ],
   "source": [
    "# just a weight table of the vobalualry size and dimension\n",
    "print(embedding_layer.weight)"
   ]
  },
  {
   "cell_type": "code",
   "execution_count": null,
   "id": "e395f100",
   "metadata": {},
   "outputs": [
    {
     "name": "stdout",
     "output_type": "stream",
     "text": [
      "tensor([[ 1.2753, -0.2010, -0.1606],\n",
      "        [-0.4015,  0.9666, -1.1481],\n",
      "        [-2.8400, -0.7849, -1.4096],\n",
      "        [ 0.9178,  1.5810,  1.3010]], grad_fn=<EmbeddingBackward0>)\n"
     ]
    }
   ],
   "source": [
    "#using the the wieght table to get for our input ids\n",
    "print(embedding_layer(input_ids))"
   ]
  },
  {
   "cell_type": "code",
   "execution_count": null,
   "id": "b735c83f",
   "metadata": {},
   "outputs": [],
   "source": []
  }
 ],
 "metadata": {
  "kernelspec": {
   "display_name": "base",
   "language": "python",
   "name": "python3"
  },
  "language_info": {
   "codemirror_mode": {
    "name": "ipython",
    "version": 3
   },
   "file_extension": ".py",
   "mimetype": "text/x-python",
   "name": "python",
   "nbconvert_exporter": "python",
   "pygments_lexer": "ipython3",
   "version": "3.12.4"
  }
 },
 "nbformat": 4,
 "nbformat_minor": 5
}
