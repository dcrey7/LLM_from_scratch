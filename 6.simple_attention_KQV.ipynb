{
 "cells": [
  {
   "cell_type": "code",
   "execution_count": 1,
   "id": "c665ace8",
   "metadata": {},
   "outputs": [],
   "source": [
    "import torch\n",
    "\n",
    "\n",
    "inputs=torch.tensor(\n",
    "    [[0.43,0.15,0.89], #your input(x^1)\n",
    "     [0.55,0.87,0.66], #journey(x^2)\n",
    "     [0.57,0.85,0.64], #starts(x^3)\n",
    "     [0.22,0.58,0.33], #with (x^4)\n",
    "     [0.77,0.25,0.10], #one(x^5)\n",
    "     [0.05,0.80,0.55]  #step(x^6)\n",
    "     ]\n",
    ")\n"
   ]
  },
  {
   "cell_type": "code",
   "execution_count": 3,
   "id": "fd78d627",
   "metadata": {},
   "outputs": [
    {
     "name": "stdout",
     "output_type": "stream",
     "text": [
      "Parameter containing:\n",
      "tensor([[0.2961, 0.5166],\n",
      "        [0.2517, 0.6886],\n",
      "        [0.0740, 0.8665]])\n",
      "Parameter containing:\n",
      "tensor([[0.1366, 0.1025],\n",
      "        [0.1841, 0.7264],\n",
      "        [0.3153, 0.6871]])\n",
      "Parameter containing:\n",
      "tensor([[0.0756, 0.1966],\n",
      "        [0.3164, 0.4017],\n",
      "        [0.1186, 0.8274]])\n"
     ]
    }
   ],
   "source": [
    "x_2=inputs[1] #A\n",
    "d_in=inputs.shape[1] #B\n",
    "d_out=2 #C\n",
    "\n",
    "torch.manual_seed(123)\n",
    "W_query=torch.nn.Parameter(torch.rand(d_in,d_out),requires_grad=False)\n",
    "W_key=torch.nn.Parameter(torch.rand(d_in,d_out),requires_grad=False)\n",
    "W_value=torch.nn.Parameter(torch.rand(d_in,d_out),requires_grad=False)\n",
    "\n",
    "\n",
    "print(W_query)\n",
    "print(W_key)\n",
    "print(W_value)\n"
   ]
  },
  {
   "cell_type": "code",
   "execution_count": 5,
   "id": "a8166bf8",
   "metadata": {},
   "outputs": [
    {
     "name": "stdout",
     "output_type": "stream",
     "text": [
      "tensor([0.4306, 1.4551])\n",
      "tensor([0.4433, 1.1419])\n",
      "tensor([0.3951, 1.0037])\n"
     ]
    }
   ],
   "source": [
    "query_2= x_2 @ W_query\n",
    "key_2=x_2 @ W_key\n",
    "value_2=x_2 @ W_value\n",
    "\n",
    "print(query_2)\n",
    "print(key_2)\n",
    "print(value_2)"
   ]
  },
  {
   "cell_type": "code",
   "execution_count": 6,
   "id": "689bb23b",
   "metadata": {},
   "outputs": [
    {
     "name": "stdout",
     "output_type": "stream",
     "text": [
      "torch.Size([6, 2])\n",
      "tensor([[0.3669, 0.7646],\n",
      "        [0.4433, 1.1419],\n",
      "        [0.4361, 1.1156],\n",
      "        [0.2408, 0.6706],\n",
      "        [0.1827, 0.3292],\n",
      "        [0.3275, 0.9642]])\n",
      "torch.Size([6, 2])\n",
      "tensor([[0.1855, 0.8812],\n",
      "        [0.3951, 1.0037],\n",
      "        [0.3879, 0.9831],\n",
      "        [0.2393, 0.5493],\n",
      "        [0.1492, 0.3346],\n",
      "        [0.3221, 0.7863]])\n",
      "torch.Size([6, 2])\n",
      "tensor([[0.2309, 1.0966],\n",
      "        [0.4306, 1.4551],\n",
      "        [0.4300, 1.4343],\n",
      "        [0.2355, 0.7990],\n",
      "        [0.2983, 0.6565],\n",
      "        [0.2568, 1.0533]])\n"
     ]
    }
   ],
   "source": [
    "keys=inputs @ W_key\n",
    "values=inputs @ W_value\n",
    "queries=inputs @ W_query\n",
    "\n",
    "print(keys.shape)\n",
    "print(keys)\n",
    "\n",
    "print(values.shape)\n",
    "print(values)\n",
    "\n",
    "print(queries.shape)\n",
    "print(queries)"
   ]
  },
  {
   "cell_type": "code",
   "execution_count": null,
   "id": "1a2932ca",
   "metadata": {},
   "outputs": [
    {
     "name": "stdout",
     "output_type": "stream",
     "text": [
      "tensor(1.8524)\n",
      "tensor([1.2705, 1.8524, 1.8111, 1.0795, 0.5577, 1.5440])\n",
      "tensor([[0.9231, 1.3545, 1.3241, 0.7910, 0.4032, 1.1330],\n",
      "        [1.2705, 1.8524, 1.8111, 1.0795, 0.5577, 1.5440],\n",
      "        [1.2544, 1.8284, 1.7877, 1.0654, 0.5508, 1.5238],\n",
      "        [0.6973, 1.0167, 0.9941, 0.5925, 0.3061, 0.8475],\n",
      "        [0.6114, 0.8819, 0.8626, 0.5121, 0.2707, 0.7307],\n",
      "        [0.8995, 1.3165, 1.2871, 0.7682, 0.3937, 1.0996]])\n",
      "tensor([0.1500, 0.2264, 0.2199, 0.1311, 0.0906, 0.1820])\n",
      "2\n"
     ]
    }
   ],
   "source": [
    "#attention score for 2 query and 2 key\n",
    "attn_score_22=query_2.dot(key_2)\n",
    "print(attn_score_22)\n",
    "\n",
    "\n",
    "#attention scores for 2 query\n",
    "attn_score_2=query_2 @ keys.T\n",
    "print(attn_score_2)\n",
    "\n",
    "#attention scores for all queries\n",
    "attn_scores=queries @ keys.T\n",
    "print(attn_scores)\n",
    "\n",
    "#normalize attention weights\n",
    "## we need make sure we scale by square root of keys dimension, because softmax function is sensitive to input so high values becomes exponentially large and output becomes too peaky (stability in training)\n",
    "## the square root is used for scaling because square root helps keep the variance close to 1 and as small as possible. \n",
    "## apply softmax\n",
    "\n",
    "#for 2nd query\n",
    "d_k=keys.shape[-1]\n",
    "attn_weights_2=torch.softmax(attn_score_2/d_k**0.5, dim=-1)\n",
    "print(attn_weights_2)\n",
    "print(d_k)\n",
    "\n"
   ]
  },
  {
   "cell_type": "code",
   "execution_count": null,
   "id": "d1c4545b",
   "metadata": {},
   "outputs": [],
   "source": []
  }
 ],
 "metadata": {
  "kernelspec": {
   "display_name": "base",
   "language": "python",
   "name": "python3"
  },
  "language_info": {
   "codemirror_mode": {
    "name": "ipython",
    "version": 3
   },
   "file_extension": ".py",
   "mimetype": "text/x-python",
   "name": "python",
   "nbconvert_exporter": "python",
   "pygments_lexer": "ipython3",
   "version": "3.12.4"
  }
 },
 "nbformat": 4,
 "nbformat_minor": 5
}
